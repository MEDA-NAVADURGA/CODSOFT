{
 "cells": [
  {
   "cell_type": "markdown",
   "id": "945b30c5",
   "metadata": {},
   "source": [
    "                                           ========================\n",
    "                                              PASSWORD GENERATOR\n",
    "                                           ========================\n",
    "            ** A password generator is a useful tool that generates strong and random passwords for users. This project aims to create a password generator application using Python, allowing users to specify the length and complexity of the password.\n",
    "**User Input: Prompt the user to specify the desired length of the password.\n",
    "\n",
    "\n",
    "\n",
    "\n",
    "**Generate Password: Use a combination of random characters to generate a password of the specified length.\n",
    "\n",
    "\n",
    "\n",
    "\n",
    "**Display the Password: Print the generated password on the screen."
   ]
  },
  {
   "cell_type": "code",
   "execution_count": 5,
   "id": "d1801497",
   "metadata": {},
   "outputs": [
    {
     "name": "stdout",
     "output_type": "stream",
     "text": [
      "Enter the desired length of the password: 6\n",
      "Use uppercase letters (1 - yes, 0 - no): 1\n",
      "Use numbers (1 - yes, 0 - no): 1\n",
      "Use special characters (1 - yes, 0 - no): 0\n",
      "\n",
      "Generated password: YRplBT\n"
     ]
    }
   ],
   "source": [
    "import random\n",
    "import string\n",
    "\n",
    "def generate_password(length, use_uppercase=True, use_numbers=True, use_special_chars=True):\n",
    "    lowercase_letters = string.ascii_lowercase\n",
    "    uppercase_letters = string.ascii_uppercase if use_uppercase else ''\n",
    "    numbers = string.digits if use_numbers else ''\n",
    "    special_chars = string.punctuation if use_special_chars else ''\n",
    "\n",
    "    all_characters = lowercase_letters + uppercase_letters + numbers + special_chars\n",
    "\n",
    "    if not all_characters:\n",
    "        raise ValueError(\"At least one character set should be enabled\")\n",
    "\n",
    "    password = ''.join(random.choice(all_characters) for _ in range(length))\n",
    "    return password\n",
    "\n",
    "def main():\n",
    "    try:\n",
    "        length = int(input(\"Enter the desired length of the password: \"))\n",
    "        use_uppercase = bool(int(input(\"Use uppercase letters (1 - yes, 0 - no): \")))\n",
    "        use_numbers = bool(int(input(\"Use numbers (1 - yes, 0 - no): \")))\n",
    "        use_special_chars = bool(int(input(\"Use special characters (1 - yes, 0 - no): \")))\n",
    "\n",
    "        if not (use_uppercase or use_numbers or use_special_chars):\n",
    "            print(\"At least one character set should be enabled\")\n",
    "            return\n",
    "\n",
    "        password = generate_password(length, use_uppercase, use_numbers, use_special_chars)\n",
    "        print(f\"\\nGenerated password: {password}\")\n",
    "    except ValueError as e:\n",
    "        print(e)\n",
    "\n",
    "if __name__ == \"__main__\":\n",
    "    main()"
   ]
  }
 ],
 "metadata": {
  "kernelspec": {
   "display_name": "Python 3 (ipykernel)",
   "language": "python",
   "name": "python3"
  },
  "language_info": {
   "codemirror_mode": {
    "name": "ipython",
    "version": 3
   },
   "file_extension": ".py",
   "mimetype": "text/x-python",
   "name": "python",
   "nbconvert_exporter": "python",
   "pygments_lexer": "ipython3",
   "version": "3.11.5"
  }
 },
 "nbformat": 4,
 "nbformat_minor": 5
}
