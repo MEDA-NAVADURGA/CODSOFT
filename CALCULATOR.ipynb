{
 "cells": [
  {
   "cell_type": "markdown",
   "id": "9fa12d80",
   "metadata": {},
   "source": [
    "# CALCULATOR :-"
   ]
  },
  {
   "cell_type": "markdown",
   "id": "1698d2ec",
   "metadata": {},
   "source": [
    "problem statement:-\n",
    "===================\n",
    " ** Design a simple calculator with basic arithmetic operations.\n",
    "    Prompt the user to input two numbers and an operation choice.\n",
    "    Perform the calculation and display the result."
   ]
  },
  {
   "cell_type": "markdown",
   "id": "3132b16a",
   "metadata": {},
   "source": [
    "code:=\n",
    "==========="
   ]
  },
  {
   "cell_type": "code",
   "execution_count": 1,
   "id": "baf18624",
   "metadata": {},
   "outputs": [
    {
     "name": "stdout",
     "output_type": "stream",
     "text": [
      "enter first number=9831.987498\n",
      "enter second number=876378.9266\n",
      "================================================================================\n",
      "enter 0 for addition:\n",
      " enter 1 for subtraction:\n",
      "enter 2 for multiplication:\n",
      "enter 3 for division:\n",
      "================================================================================\n",
      "enter your choice:0\n",
      "addition of 9831.987498 and 876378.9266 =886210.914098\n"
     ]
    }
   ],
   "source": [
    "def addition(x,y):\n",
    "    print(\"addition of {} and {} ={}\".format(x,y,x+y))\n",
    "def subtraction(x,y):\n",
    "    print(\"subtraction of {} and {} ={}\".format(x,y,x-y))\n",
    "def multiplication(x,y):\n",
    "    print(\"multiplication of {} and {} ={}\".format(x,y,x*y))\n",
    "def division(x,y):\n",
    "    try:\n",
    "        print(\"division of {} and {} ={}\".format(x,y,x/y))\n",
    "    except ZeroDivisionError:\n",
    "        print(\"{} not divided by zero\".format(x))\n",
    "def calculation():\n",
    "    op=int(input(\"enter your choice:\"))\n",
    "    if(op<=4):\n",
    "        match(op):\n",
    "            case 0:\n",
    "                return addition(num1,num2)\n",
    "            case 1:\n",
    "                return subtraction(num1,num2)\n",
    "            case 2:\n",
    "                return multiplication(num1,num2)\n",
    "            case 3:\n",
    "                return division(num1,num2)\n",
    "    else:\n",
    "           print(\"Invalid choice and enter a correct choice\")\n",
    "num1=float(input(\"enter first number=\"))\n",
    "num2=float(input(\"enter second number=\"))\n",
    "print(\"==\"*40)\n",
    "print(\"enter 0 for addition:\\n enter 1 for subtraction:\\nenter 2 for multiplication:\\nenter 3 for division:\")\n",
    "print(\"==\"*40)\n",
    "calculation()"
   ]
  },
  {
   "cell_type": "markdown",
   "id": "9b736428",
   "metadata": {},
   "source": [
    "                         ===========================================================\n",
    "                                                ANOTHER WAY\n",
    "                         ==========================================================="
   ]
  },
  {
   "cell_type": "code",
   "execution_count": 2,
   "id": "69f8c952",
   "metadata": {},
   "outputs": [
    {
     "name": "stdout",
     "output_type": "stream",
     "text": [
      "Enter the first number: 93723.09798\n",
      "Enter the second number: 037023.9137401\n",
      "\n",
      "Select operation:\n",
      "1. Addition\n",
      "2. Subtraction\n",
      "3. Multiplication\n",
      "4. Division\n",
      "Enter your choice (1/2/3/4): 3\n",
      "\n",
      "Result: 3469995895.0664606\n"
     ]
    }
   ],
   "source": [
    "def add(x, y):\n",
    "    return x + y\n",
    "\n",
    "def subtract(x, y):\n",
    "    return x - y\n",
    "\n",
    "def multiply(x, y):\n",
    "    return x * y\n",
    "\n",
    "def divide(x, y):\n",
    "    if y == 0:\n",
    "        raise ValueError(\"Cannot divide by zero\")\n",
    "    return x / y\n",
    "\n",
    "def calculator():\n",
    "    try:\n",
    "        num1 = float(input(\"Enter the first number: \"))\n",
    "        num2 = float(input(\"Enter the second number: \"))\n",
    "\n",
    "        print(\"\\nSelect operation:\")\n",
    "        print(\"1. Addition\")\n",
    "        print(\"2. Subtraction\")\n",
    "        print(\"3. Multiplication\")\n",
    "        print(\"4. Division\")\n",
    "\n",
    "        operation = int(input(\"Enter your choice (1/2/3/4): \"))\n",
    "\n",
    "        if operation == 1:\n",
    "            result = add(num1, num2)\n",
    "        elif operation == 2:\n",
    "            result = subtract(num1, num2)\n",
    "        elif operation == 3:\n",
    "            result = multiply(num1, num2)\n",
    "        elif operation == 4:\n",
    "            result = divide(num1, num2)\n",
    "        else:\n",
    "            print(\"Invalid choice, please select from 1 to 4.\")\n",
    "            return\n",
    "\n",
    "        print(f\"\\nResult: {result}\")\n",
    "    except ValueError as e:\n",
    "        print(e)\n",
    "\n",
    "if __name__ == \"__main__\":\n",
    "    calculator()"
   ]
  }
 ],
 "metadata": {
  "kernelspec": {
   "display_name": "Python 3 (ipykernel)",
   "language": "python",
   "name": "python3"
  },
  "language_info": {
   "codemirror_mode": {
    "name": "ipython",
    "version": 3
   },
   "file_extension": ".py",
   "mimetype": "text/x-python",
   "name": "python",
   "nbconvert_exporter": "python",
   "pygments_lexer": "ipython3",
   "version": "3.11.5"
  }
 },
 "nbformat": 4,
 "nbformat_minor": 5
}
